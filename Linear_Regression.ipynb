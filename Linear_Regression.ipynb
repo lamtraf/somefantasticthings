{
  "nbformat": 4,
  "nbformat_minor": 0,
  "metadata": {
    "colab": {
      "provenance": [],
      "authorship_tag": "ABX9TyMxt+wgZ7EJEIHi0L/3CYpM",
      "include_colab_link": true
    },
    "kernelspec": {
      "name": "python3",
      "display_name": "Python 3"
    },
    "language_info": {
      "name": "python"
    }
  },
  "cells": [
    {
      "cell_type": "markdown",
      "metadata": {
        "id": "view-in-github",
        "colab_type": "text"
      },
      "source": [
        "<a href=\"https://colab.research.google.com/github/lamtraf/somefantasticthings/blob/main/Linear_Regression.ipynb\" target=\"_parent\"><img src=\"https://colab.research.google.com/assets/colab-badge.svg\" alt=\"Open In Colab\"/></a>"
      ]
    },
    {
      "cell_type": "markdown",
      "source": [
        "Linear Regression to predict the weight of a person based on the height"
      ],
      "metadata": {
        "id": "ntIoZ3DthhVl"
      }
    },
    {
      "cell_type": "markdown",
      "source": [
        "In this notebook, I will use math and library to calcute"
      ],
      "metadata": {
        "id": "iceUQK2Khw5U"
      }
    },
    {
      "cell_type": "code",
      "execution_count": null,
      "metadata": {
        "id": "nbkuM2z8hEbw"
      },
      "outputs": [],
      "source": [
        "import numpy as np\n",
        "import matplotlib.pyplot as plt"
      ]
    },
    {
      "cell_type": "code",
      "source": [
        "# height(cm)\n",
        "X = np.array([[147, 150, 153, 158, 163, 165, 168, 170, 173, 175, 178, 180, 183]]).T\n",
        "# weight (kg)\n",
        "y = np.array([[ 49, 50, 51,  54, 58, 59, 60, 62, 63, 64, 66, 67, 68]]).T\n",
        "#visualize the data\n",
        "plt.scatter(X, y, )\n",
        "plt.title(\"Plot of the data\")\n",
        "plt.xlabel(\"Height\")\n",
        "plt.ylabel(\"Weight\")\n",
        "plt.show()"
      ],
      "metadata": {
        "colab": {
          "base_uri": "https://localhost:8080/",
          "height": 295
        },
        "id": "n8mIAz4mhf1C",
        "outputId": "94ba7ae0-e631-41c5-9049-9e78f494a71e"
      },
      "execution_count": null,
      "outputs": [
        {
          "output_type": "display_data",
          "data": {
            "text/plain": [
              "<Figure size 432x288 with 1 Axes>"
            ],
            "image/png": "[encoded data removed]"
          },
          "metadata": {
            "needs_background": "light"
          }
        }
      ]
    },
    {
      "cell_type": "code",
      "source": [
        "#buiding X bar\n",
        "one = np.ones((X.shape[0], 1))\n",
        "Xbar = np.concatenate((one, X), axis = 1)\n",
        "\n",
        "#calculating weights of the fitting line\n",
        "A = np.dot(Xbar.T, Xbar)\n",
        "B = np.dot(Xbar.T, y)\n",
        "w = np.dot(np.linalg.pinv(A), B)\n",
        "# np.linalg.pinv is the function to calculate pseudo-inverse\n",
        "w_0 = w[0][0]\n",
        "w_1 = w[1][0]\n",
        "x0 = np.linspace(145, 185,2)\n",
        "# np.linspace returns evenly spaced number over a specific interval\n",
        "y0 = w_0 + w_1 * x0\n",
        "\n",
        "# visualize the fitting line\n",
        "plt.scatter(X.T, y.T)\n",
        "plt.plot(x0, y0)\n",
        "plt.axis([140,190,45,75])\n",
        "plt.xlabel(\"Height (cm)\")\n",
        "plt.ylabel(\"Weight (kg)\")\n",
        "plt.show()"
      ],
      "metadata": {
        "colab": {
          "base_uri": "https://localhost:8080/",
          "height": 283
        },
        "id": "s9d7ESDQisT0",
        "outputId": "f117285d-2c35-4889-e58d-5ade2f7f7307"
      },
      "execution_count": null,
      "outputs": [
        {
          "output_type": "display_data",
          "data": {
            "text/plain": [
              "<Figure size 432x288 with 1 Axes>"
            ],
            "image/png": "[encoded data removed]"
          },
          "metadata": {
            "needs_background": "light"
          }
        }
      ]
    },
    {
      "cell_type": "code",
      "source": [
        "y1 = w_1*155 + w_0\n",
        "y2 = w_1*160 + w_0\n",
        "\n",
        "print( u'Predict weight of person with height 155 cm: %.2f (kg), real number: 52 (kg)'  %(y1) )\n",
        "print( u'Predict weight of person with height 160 cm: %.2f (kg), real number: 56 (kg)'  %(y2) )"
      ],
      "metadata": {
        "colab": {
          "base_uri": "https://localhost:8080/"
        },
        "id": "bh0GEdpLmR78",
        "outputId": "4dd130ec-9461-4743-80b7-7a1136f3dcde"
      },
      "execution_count": null,
      "outputs": [
        {
          "output_type": "stream",
          "name": "stdout",
          "text": [
            "Predict weight of person with height 155 cm: 52.94 (kg), real number: 52 (kg)\n",
            "Predict weight of person with height 160 cm: 55.74 (kg), real number: 56 (kg)\n"
          ]
        }
      ]
    },
    {
      "cell_type": "markdown",
      "source": [
        "using scikit_learn"
      ],
      "metadata": {
        "id": "2ND4I4w7mZiU"
      }
    },
    {
      "cell_type": "code",
      "source": [
        "from sklearn import datasets, linear_model\n",
        "\n",
        "# fit the model by Linear Regression\n",
        "regr = linear_model.LinearRegression(fit_intercept=False) # fit_intercept = False for calculating the bias\n",
        "regr.fit(Xbar, y)"
      ],
      "metadata": {
        "colab": {
          "base_uri": "https://localhost:8080/"
        },
        "id": "ZGmIvZp1md6E",
        "outputId": "0b1ffda5-2f26-4aa3-f925-b835b3c8b42e"
      },
      "execution_count": null,
      "outputs": [
        {
          "output_type": "execute_result",
          "data": {
            "text/plain": [
              "LinearRegression(fit_intercept=False)"
            ]
          },
          "metadata": {},
          "execution_count": 27
        }
      ]
    },
    {
      "cell_type": "code",
      "source": [
        "print( 'Solution found by scikit-learn  : ', regr.coef_ )\n",
        "print( 'Solution found by math: ', w.T)"
      ],
      "metadata": {
        "colab": {
          "base_uri": "https://localhost:8080/"
        },
        "id": "85nhRoKgmgsM",
        "outputId": "0f2b98b6-d4cc-4468-df5e-6238db4f3c01"
      },
      "execution_count": null,
      "outputs": [
        {
          "output_type": "stream",
          "name": "stdout",
          "text": [
            "Solution found by scikit-learn  :  [[-33.73541021   0.55920496]]\n",
            "Solution found by math:  [[-33.73541021   0.55920496]]\n"
          ]
        }
      ]
    }
  ]
}